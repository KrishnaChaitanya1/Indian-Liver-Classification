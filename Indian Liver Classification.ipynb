{
 "cells": [
  {
   "cell_type": "code",
   "execution_count": 49,
   "metadata": {},
   "outputs": [],
   "source": [
    "#Importing the data\n",
    "import numpy as np\n",
    "from numpy import set_printoptions\n",
    "\n",
    "import pandas as pd\n",
    "\n",
    "import matplotlib.pyplot as plt\n",
    "import seaborn as sns\n",
    "\n",
    "from sklearn.preprocessing import StandardScaler\n",
    "from sklearn.preprocessing import Normalizer\n",
    "from sklearn.preprocessing import Binarizer\n",
    "from sklearn.model_selection import train_test_split\n",
    "from sklearn.linear_model import LogisticRegression\n",
    "from sklearn.metrics import classification_report\n",
    "from sklearn.metrics import confusion_matrix\n",
    "\n",
    "%matplotlib inline\n",
    "set_printoptions(precision=3)"
   ]
  },
  {
   "cell_type": "code",
   "execution_count": 23,
   "metadata": {},
   "outputs": [
    {
     "name": "stdout",
     "output_type": "stream",
     "text": [
      "(583, 11)\n",
      "\n",
      "\n",
      "   Age  Gender  Total_Bilirubin  Direct_Bilirubin  Alkaline_Phosphotase  \\\n",
      "0   65  Female              0.7               0.1                   187   \n",
      "1   62    Male             10.9               5.5                   699   \n",
      "2   62    Male              7.3               4.1                   490   \n",
      "3   58    Male              1.0               0.4                   182   \n",
      "4   72    Male              3.9               2.0                   195   \n",
      "\n",
      "   Alamine_Aminotransferase  Aspartate_Aminotransferase  Total_Protiens  \\\n",
      "0                        16                          18             6.8   \n",
      "1                        64                         100             7.5   \n",
      "2                        60                          68             7.0   \n",
      "3                        14                          20             6.8   \n",
      "4                        27                          59             7.3   \n",
      "\n",
      "   Albumin  Albumin_and_Globulin_Ratio  Dataset  \n",
      "0      3.3                        0.90        1  \n",
      "1      3.2                        0.74        1  \n",
      "2      3.3                        0.89        1  \n",
      "3      3.4                        1.00        1  \n",
      "4      2.4                        0.40        1  \n"
     ]
    }
   ],
   "source": [
    "filename='indian_liver_patient.csv'\n",
    "data=pd.read_csv(filename)\n",
    "print(data.shape)\n",
    "print('\\n')\n",
    "print(data.head()) # Dataset column -> selector field used to split the dataset into two"
   ]
  },
  {
   "cell_type": "code",
   "execution_count": 24,
   "metadata": {},
   "outputs": [
    {
     "data": {
      "text/html": [
       "<div>\n",
       "<style scoped>\n",
       "    .dataframe tbody tr th:only-of-type {\n",
       "        vertical-align: middle;\n",
       "    }\n",
       "\n",
       "    .dataframe tbody tr th {\n",
       "        vertical-align: top;\n",
       "    }\n",
       "\n",
       "    .dataframe thead th {\n",
       "        text-align: right;\n",
       "    }\n",
       "</style>\n",
       "<table border=\"1\" class=\"dataframe\">\n",
       "  <thead>\n",
       "    <tr style=\"text-align: right;\">\n",
       "      <th></th>\n",
       "      <th>Age</th>\n",
       "      <th>Gender</th>\n",
       "      <th>Total_Bilirubin</th>\n",
       "      <th>Direct_Bilirubin</th>\n",
       "      <th>Alkaline_Phosphotase</th>\n",
       "      <th>Alamine_Aminotransferase</th>\n",
       "      <th>Aspartate_Aminotransferase</th>\n",
       "      <th>Total_Protiens</th>\n",
       "      <th>Albumin</th>\n",
       "      <th>Albumin_and_Globulin_Ratio</th>\n",
       "      <th>Dataset</th>\n",
       "    </tr>\n",
       "  </thead>\n",
       "  <tbody>\n",
       "    <tr>\n",
       "      <th>0</th>\n",
       "      <td>65</td>\n",
       "      <td>0</td>\n",
       "      <td>0.7</td>\n",
       "      <td>0.1</td>\n",
       "      <td>187</td>\n",
       "      <td>16</td>\n",
       "      <td>18</td>\n",
       "      <td>6.8</td>\n",
       "      <td>3.3</td>\n",
       "      <td>0.90</td>\n",
       "      <td>1</td>\n",
       "    </tr>\n",
       "    <tr>\n",
       "      <th>1</th>\n",
       "      <td>62</td>\n",
       "      <td>1</td>\n",
       "      <td>10.9</td>\n",
       "      <td>5.5</td>\n",
       "      <td>699</td>\n",
       "      <td>64</td>\n",
       "      <td>100</td>\n",
       "      <td>7.5</td>\n",
       "      <td>3.2</td>\n",
       "      <td>0.74</td>\n",
       "      <td>1</td>\n",
       "    </tr>\n",
       "    <tr>\n",
       "      <th>2</th>\n",
       "      <td>62</td>\n",
       "      <td>1</td>\n",
       "      <td>7.3</td>\n",
       "      <td>4.1</td>\n",
       "      <td>490</td>\n",
       "      <td>60</td>\n",
       "      <td>68</td>\n",
       "      <td>7.0</td>\n",
       "      <td>3.3</td>\n",
       "      <td>0.89</td>\n",
       "      <td>1</td>\n",
       "    </tr>\n",
       "    <tr>\n",
       "      <th>3</th>\n",
       "      <td>58</td>\n",
       "      <td>1</td>\n",
       "      <td>1.0</td>\n",
       "      <td>0.4</td>\n",
       "      <td>182</td>\n",
       "      <td>14</td>\n",
       "      <td>20</td>\n",
       "      <td>6.8</td>\n",
       "      <td>3.4</td>\n",
       "      <td>1.00</td>\n",
       "      <td>1</td>\n",
       "    </tr>\n",
       "    <tr>\n",
       "      <th>4</th>\n",
       "      <td>72</td>\n",
       "      <td>1</td>\n",
       "      <td>3.9</td>\n",
       "      <td>2.0</td>\n",
       "      <td>195</td>\n",
       "      <td>27</td>\n",
       "      <td>59</td>\n",
       "      <td>7.3</td>\n",
       "      <td>2.4</td>\n",
       "      <td>0.40</td>\n",
       "      <td>1</td>\n",
       "    </tr>\n",
       "  </tbody>\n",
       "</table>\n",
       "</div>"
      ],
      "text/plain": [
       "   Age  Gender  Total_Bilirubin  Direct_Bilirubin  Alkaline_Phosphotase  \\\n",
       "0   65       0              0.7               0.1                   187   \n",
       "1   62       1             10.9               5.5                   699   \n",
       "2   62       1              7.3               4.1                   490   \n",
       "3   58       1              1.0               0.4                   182   \n",
       "4   72       1              3.9               2.0                   195   \n",
       "\n",
       "   Alamine_Aminotransferase  Aspartate_Aminotransferase  Total_Protiens  \\\n",
       "0                        16                          18             6.8   \n",
       "1                        64                         100             7.5   \n",
       "2                        60                          68             7.0   \n",
       "3                        14                          20             6.8   \n",
       "4                        27                          59             7.3   \n",
       "\n",
       "   Albumin  Albumin_and_Globulin_Ratio  Dataset  \n",
       "0      3.3                        0.90        1  \n",
       "1      3.2                        0.74        1  \n",
       "2      3.3                        0.89        1  \n",
       "3      3.4                        1.00        1  \n",
       "4      2.4                        0.40        1  "
      ]
     },
     "execution_count": 24,
     "metadata": {},
     "output_type": "execute_result"
    }
   ],
   "source": [
    "data['Gender'].replace(['Female','Male'],[0,1],inplace=True)\n",
    "data.head()"
   ]
  },
  {
   "cell_type": "code",
   "execution_count": 25,
   "metadata": {},
   "outputs": [
    {
     "data": {
      "text/plain": [
       "Age                           0\n",
       "Gender                        0\n",
       "Total_Bilirubin               0\n",
       "Direct_Bilirubin              0\n",
       "Alkaline_Phosphotase          0\n",
       "Alamine_Aminotransferase      0\n",
       "Aspartate_Aminotransferase    0\n",
       "Total_Protiens                0\n",
       "Albumin                       0\n",
       "Albumin_and_Globulin_Ratio    4\n",
       "Dataset                       0\n",
       "dtype: int64"
      ]
     },
     "execution_count": 25,
     "metadata": {},
     "output_type": "execute_result"
    }
   ],
   "source": [
    "data.isnull().sum()"
   ]
  },
  {
   "cell_type": "code",
   "execution_count": 26,
   "metadata": {},
   "outputs": [
    {
     "data": {
      "text/plain": [
       "Age                           0\n",
       "Gender                        0\n",
       "Total_Bilirubin               0\n",
       "Direct_Bilirubin              0\n",
       "Alkaline_Phosphotase          0\n",
       "Alamine_Aminotransferase      0\n",
       "Aspartate_Aminotransferase    0\n",
       "Total_Protiens                0\n",
       "Albumin                       0\n",
       "Albumin_and_Globulin_Ratio    0\n",
       "Dataset                       0\n",
       "dtype: int64"
      ]
     },
     "execution_count": 26,
     "metadata": {},
     "output_type": "execute_result"
    }
   ],
   "source": [
    "data['Albumin_and_Globulin_Ratio'].fillna(0, inplace = True)\n",
    "data.isnull().sum()"
   ]
  },
  {
   "cell_type": "code",
   "execution_count": 27,
   "metadata": {},
   "outputs": [
    {
     "data": {
      "text/html": [
       "<div>\n",
       "<style scoped>\n",
       "    .dataframe tbody tr th:only-of-type {\n",
       "        vertical-align: middle;\n",
       "    }\n",
       "\n",
       "    .dataframe tbody tr th {\n",
       "        vertical-align: top;\n",
       "    }\n",
       "\n",
       "    .dataframe thead th {\n",
       "        text-align: right;\n",
       "    }\n",
       "</style>\n",
       "<table border=\"1\" class=\"dataframe\">\n",
       "  <thead>\n",
       "    <tr style=\"text-align: right;\">\n",
       "      <th></th>\n",
       "      <th>Age</th>\n",
       "      <th>Gender</th>\n",
       "      <th>Total_Bilirubin</th>\n",
       "      <th>Direct_Bilirubin</th>\n",
       "      <th>Alkaline_Phosphotase</th>\n",
       "      <th>Alamine_Aminotransferase</th>\n",
       "      <th>Aspartate_Aminotransferase</th>\n",
       "      <th>Total_Protiens</th>\n",
       "      <th>Albumin</th>\n",
       "      <th>Albumin_and_Globulin_Ratio</th>\n",
       "      <th>Dataset</th>\n",
       "    </tr>\n",
       "  </thead>\n",
       "  <tbody>\n",
       "    <tr>\n",
       "      <th>count</th>\n",
       "      <td>583.000000</td>\n",
       "      <td>583.000000</td>\n",
       "      <td>583.000000</td>\n",
       "      <td>583.000000</td>\n",
       "      <td>583.000000</td>\n",
       "      <td>583.000000</td>\n",
       "      <td>583.000000</td>\n",
       "      <td>583.000000</td>\n",
       "      <td>583.000000</td>\n",
       "      <td>583.000000</td>\n",
       "      <td>583.000000</td>\n",
       "    </tr>\n",
       "    <tr>\n",
       "      <th>mean</th>\n",
       "      <td>44.746141</td>\n",
       "      <td>0.756432</td>\n",
       "      <td>3.298799</td>\n",
       "      <td>1.486106</td>\n",
       "      <td>290.576329</td>\n",
       "      <td>80.713551</td>\n",
       "      <td>109.910806</td>\n",
       "      <td>6.483190</td>\n",
       "      <td>3.141852</td>\n",
       "      <td>0.940566</td>\n",
       "      <td>1.286449</td>\n",
       "    </tr>\n",
       "    <tr>\n",
       "      <th>std</th>\n",
       "      <td>16.189833</td>\n",
       "      <td>0.429603</td>\n",
       "      <td>6.209522</td>\n",
       "      <td>2.808498</td>\n",
       "      <td>242.937989</td>\n",
       "      <td>182.620356</td>\n",
       "      <td>288.918529</td>\n",
       "      <td>1.085451</td>\n",
       "      <td>0.795519</td>\n",
       "      <td>0.327962</td>\n",
       "      <td>0.452490</td>\n",
       "    </tr>\n",
       "    <tr>\n",
       "      <th>min</th>\n",
       "      <td>4.000000</td>\n",
       "      <td>0.000000</td>\n",
       "      <td>0.400000</td>\n",
       "      <td>0.100000</td>\n",
       "      <td>63.000000</td>\n",
       "      <td>10.000000</td>\n",
       "      <td>10.000000</td>\n",
       "      <td>2.700000</td>\n",
       "      <td>0.900000</td>\n",
       "      <td>0.000000</td>\n",
       "      <td>1.000000</td>\n",
       "    </tr>\n",
       "    <tr>\n",
       "      <th>25%</th>\n",
       "      <td>33.000000</td>\n",
       "      <td>1.000000</td>\n",
       "      <td>0.800000</td>\n",
       "      <td>0.200000</td>\n",
       "      <td>175.500000</td>\n",
       "      <td>23.000000</td>\n",
       "      <td>25.000000</td>\n",
       "      <td>5.800000</td>\n",
       "      <td>2.600000</td>\n",
       "      <td>0.700000</td>\n",
       "      <td>1.000000</td>\n",
       "    </tr>\n",
       "    <tr>\n",
       "      <th>50%</th>\n",
       "      <td>45.000000</td>\n",
       "      <td>1.000000</td>\n",
       "      <td>1.000000</td>\n",
       "      <td>0.300000</td>\n",
       "      <td>208.000000</td>\n",
       "      <td>35.000000</td>\n",
       "      <td>42.000000</td>\n",
       "      <td>6.600000</td>\n",
       "      <td>3.100000</td>\n",
       "      <td>0.920000</td>\n",
       "      <td>1.000000</td>\n",
       "    </tr>\n",
       "    <tr>\n",
       "      <th>75%</th>\n",
       "      <td>58.000000</td>\n",
       "      <td>1.000000</td>\n",
       "      <td>2.600000</td>\n",
       "      <td>1.300000</td>\n",
       "      <td>298.000000</td>\n",
       "      <td>60.500000</td>\n",
       "      <td>87.000000</td>\n",
       "      <td>7.200000</td>\n",
       "      <td>3.800000</td>\n",
       "      <td>1.100000</td>\n",
       "      <td>2.000000</td>\n",
       "    </tr>\n",
       "    <tr>\n",
       "      <th>max</th>\n",
       "      <td>90.000000</td>\n",
       "      <td>1.000000</td>\n",
       "      <td>75.000000</td>\n",
       "      <td>19.700000</td>\n",
       "      <td>2110.000000</td>\n",
       "      <td>2000.000000</td>\n",
       "      <td>4929.000000</td>\n",
       "      <td>9.600000</td>\n",
       "      <td>5.500000</td>\n",
       "      <td>2.800000</td>\n",
       "      <td>2.000000</td>\n",
       "    </tr>\n",
       "  </tbody>\n",
       "</table>\n",
       "</div>"
      ],
      "text/plain": [
       "              Age      Gender  Total_Bilirubin  Direct_Bilirubin  \\\n",
       "count  583.000000  583.000000       583.000000        583.000000   \n",
       "mean    44.746141    0.756432         3.298799          1.486106   \n",
       "std     16.189833    0.429603         6.209522          2.808498   \n",
       "min      4.000000    0.000000         0.400000          0.100000   \n",
       "25%     33.000000    1.000000         0.800000          0.200000   \n",
       "50%     45.000000    1.000000         1.000000          0.300000   \n",
       "75%     58.000000    1.000000         2.600000          1.300000   \n",
       "max     90.000000    1.000000        75.000000         19.700000   \n",
       "\n",
       "       Alkaline_Phosphotase  Alamine_Aminotransferase  \\\n",
       "count            583.000000                583.000000   \n",
       "mean             290.576329                 80.713551   \n",
       "std              242.937989                182.620356   \n",
       "min               63.000000                 10.000000   \n",
       "25%              175.500000                 23.000000   \n",
       "50%              208.000000                 35.000000   \n",
       "75%              298.000000                 60.500000   \n",
       "max             2110.000000               2000.000000   \n",
       "\n",
       "       Aspartate_Aminotransferase  Total_Protiens     Albumin  \\\n",
       "count                  583.000000      583.000000  583.000000   \n",
       "mean                   109.910806        6.483190    3.141852   \n",
       "std                    288.918529        1.085451    0.795519   \n",
       "min                     10.000000        2.700000    0.900000   \n",
       "25%                     25.000000        5.800000    2.600000   \n",
       "50%                     42.000000        6.600000    3.100000   \n",
       "75%                     87.000000        7.200000    3.800000   \n",
       "max                   4929.000000        9.600000    5.500000   \n",
       "\n",
       "       Albumin_and_Globulin_Ratio     Dataset  \n",
       "count                  583.000000  583.000000  \n",
       "mean                     0.940566    1.286449  \n",
       "std                      0.327962    0.452490  \n",
       "min                      0.000000    1.000000  \n",
       "25%                      0.700000    1.000000  \n",
       "50%                      0.920000    1.000000  \n",
       "75%                      1.100000    2.000000  \n",
       "max                      2.800000    2.000000  "
      ]
     },
     "execution_count": 27,
     "metadata": {},
     "output_type": "execute_result"
    }
   ],
   "source": [
    "data.describe()"
   ]
  },
  {
   "cell_type": "code",
   "execution_count": 28,
   "metadata": {},
   "outputs": [
    {
     "name": "stdout",
     "output_type": "stream",
     "text": [
      "Dataset\n",
      "1    416\n",
      "2    167\n",
      "dtype: int64\n"
     ]
    }
   ],
   "source": [
    "print(data.groupby('Dataset').size())"
   ]
  },
  {
   "cell_type": "code",
   "execution_count": 33,
   "metadata": {},
   "outputs": [
    {
     "data": {
      "text/plain": [
       "array([[<matplotlib.axes._subplots.AxesSubplot object at 0x000001DB5C9BB128>,\n",
       "        <matplotlib.axes._subplots.AxesSubplot object at 0x000001DB5C99C390>,\n",
       "        <matplotlib.axes._subplots.AxesSubplot object at 0x000001DB5C746908>],\n",
       "       [<matplotlib.axes._subplots.AxesSubplot object at 0x000001DB5C732E10>,\n",
       "        <matplotlib.axes._subplots.AxesSubplot object at 0x000001DB5C7173C8>,\n",
       "        <matplotlib.axes._subplots.AxesSubplot object at 0x000001DB5C6F76A0>],\n",
       "       [<matplotlib.axes._subplots.AxesSubplot object at 0x000001DB5C6EFEB8>,\n",
       "        <matplotlib.axes._subplots.AxesSubplot object at 0x000001DB5C6D34A8>,\n",
       "        <matplotlib.axes._subplots.AxesSubplot object at 0x000001DB5C6D34E0>],\n",
       "       [<matplotlib.axes._subplots.AxesSubplot object at 0x000001DB5C9DA048>,\n",
       "        <matplotlib.axes._subplots.AxesSubplot object at 0x000001DB5C9D0518>,\n",
       "        <matplotlib.axes._subplots.AxesSubplot object at 0x000001DB5C930A90>]],\n",
       "      dtype=object)"
      ]
     },
     "execution_count": 33,
     "metadata": {},
     "output_type": "execute_result"
    },
    {
     "data": {
      "image/png": "[encoded data removed]",
      "text/plain": [
       "<Figure size 720x720 with 12 Axes>"
      ]
     },
     "metadata": {
      "needs_background": "light"
     },
     "output_type": "display_data"
    }
   ],
   "source": [
    "data.hist(figsize=(10,10))"
   ]
  },
  {
   "cell_type": "code",
   "execution_count": 43,
   "metadata": {},
   "outputs": [
    {
     "data": {
      "image/png": "[encoded data removed]",
      "text/plain": [
       "<Figure size 648x648 with 2 Axes>"
      ]
     },
     "metadata": {
      "needs_background": "light"
     },
     "output_type": "display_data"
    }
   ],
   "source": [
    "plt.figure(figsize=(9, 9))\n",
    "sns.heatmap(data.corr(), annot=True, fmt='.2f', linewidths=0.3, cmap = 'Blues')\n",
    "plt.title('Heatmap of Dataset')\n",
    "plt.show()"
   ]
  },
  {
   "cell_type": "code",
   "execution_count": 45,
   "metadata": {},
   "outputs": [
    {
     "name": "stdout",
     "output_type": "stream",
     "text": [
      "   Age  Gender  Total_Bilirubin  Direct_Bilirubin  Alkaline_Phosphotase  \\\n",
      "0   65       0              0.7               0.1                   187   \n",
      "1   62       1             10.9               5.5                   699   \n",
      "2   62       1              7.3               4.1                   490   \n",
      "3   58       1              1.0               0.4                   182   \n",
      "4   72       1              3.9               2.0                   195   \n",
      "\n",
      "   Alamine_Aminotransferase  Aspartate_Aminotransferase  Total_Protiens  \\\n",
      "0                        16                          18             6.8   \n",
      "1                        64                         100             7.5   \n",
      "2                        60                          68             7.0   \n",
      "3                        14                          20             6.8   \n",
      "4                        27                          59             7.3   \n",
      "\n",
      "   Albumin  Albumin_and_Globulin_Ratio  Dataset  \n",
      "0      3.3                        0.90        1  \n",
      "1      3.2                        0.74        1  \n",
      "2      3.3                        0.89        1  \n",
      "3      3.4                        1.00        1  \n",
      "4      2.4                        0.40        1  \n",
      "[[ 1.252 -1.762 -0.419 -0.494 -0.427 -0.355 -0.318  0.292  0.199 -0.124]\n",
      " [ 1.067  0.567  1.225  1.43   1.683 -0.092 -0.034  0.938  0.073 -0.612]\n",
      " [ 1.067  0.567  0.645  0.932  0.822 -0.114 -0.145  0.477  0.199 -0.154]\n",
      " [ 0.819  0.567 -0.371 -0.387 -0.447 -0.366 -0.311  0.292  0.325  0.181]\n",
      " [ 1.685  0.567  0.097  0.183 -0.394 -0.294 -0.176  0.753 -0.933 -1.65 ]]\n"
     ]
    }
   ],
   "source": [
    "array=data.values\n",
    "x=array[:,0:10]\n",
    "y=array[:,10]\n",
    "scaler = StandardScaler().fit(x)\n",
    "rescledX=scaler.fit_transform(x)\n",
    "print(data.head())\n",
    "print(rescledX[0:5,:])"
   ]
  },
  {
   "cell_type": "code",
   "execution_count": 46,
   "metadata": {},
   "outputs": [
    {
     "name": "stdout",
     "output_type": "stream",
     "text": [
      "   Age  Gender  Total_Bilirubin  Direct_Bilirubin  Alkaline_Phosphotase  \\\n",
      "0   65       0              0.7               0.1                   187   \n",
      "1   62       1             10.9               5.5                   699   \n",
      "2   62       1              7.3               4.1                   490   \n",
      "3   58       1              1.0               0.4                   182   \n",
      "4   72       1              3.9               2.0                   195   \n",
      "\n",
      "   Alamine_Aminotransferase  Aspartate_Aminotransferase  Total_Protiens  \\\n",
      "0                        16                          18             6.8   \n",
      "1                        64                         100             7.5   \n",
      "2                        60                          68             7.0   \n",
      "3                        14                          20             6.8   \n",
      "4                        27                          59             7.3   \n",
      "\n",
      "   Albumin  Albumin_and_Globulin_Ratio  Dataset  \n",
      "0      3.3                        0.90        1  \n",
      "1      3.2                        0.74        1  \n",
      "2      3.3                        0.89        1  \n",
      "3      3.4                        1.00        1  \n",
      "4      2.4                        0.40        1  \n",
      "[[3.257e-01 0.000e+00 3.507e-03 5.011e-04 9.370e-01 8.017e-02 9.019e-02\n",
      "  3.407e-02 1.653e-02 4.509e-03]\n",
      " [8.709e-02 1.405e-03 1.531e-02 7.726e-03 9.819e-01 8.990e-02 1.405e-01\n",
      "  1.054e-02 4.495e-03 1.040e-03]\n",
      " [1.234e-01 1.991e-03 1.453e-02 8.163e-03 9.755e-01 1.195e-01 1.354e-01\n",
      "  1.394e-02 6.570e-03 1.772e-03]\n",
      " [3.009e-01 5.189e-03 5.189e-03 2.075e-03 9.443e-01 7.264e-02 1.038e-01\n",
      "  3.528e-02 1.764e-02 5.189e-03]\n",
      " [3.304e-01 4.588e-03 1.789e-02 9.177e-03 8.947e-01 1.239e-01 2.707e-01\n",
      "  3.350e-02 1.101e-02 1.835e-03]]\n"
     ]
    }
   ],
   "source": [
    "array=data.values\n",
    "x=array[:,0:10]\n",
    "y=array[:,10]\n",
    "normalize = Normalizer().fit(x)\n",
    "normalizedX=normalize.fit_transform(x)\n",
    "print(data.head())\n",
    "print(normalizedX[0:5,:])"
   ]
  },
  {
   "cell_type": "code",
   "execution_count": 47,
   "metadata": {},
   "outputs": [
    {
     "name": "stdout",
     "output_type": "stream",
     "text": [
      "   Age  Gender  Total_Bilirubin  Direct_Bilirubin  Alkaline_Phosphotase  \\\n",
      "0   65       0              0.7               0.1                   187   \n",
      "1   62       1             10.9               5.5                   699   \n",
      "2   62       1              7.3               4.1                   490   \n",
      "3   58       1              1.0               0.4                   182   \n",
      "4   72       1              3.9               2.0                   195   \n",
      "\n",
      "   Alamine_Aminotransferase  Aspartate_Aminotransferase  Total_Protiens  \\\n",
      "0                        16                          18             6.8   \n",
      "1                        64                         100             7.5   \n",
      "2                        60                          68             7.0   \n",
      "3                        14                          20             6.8   \n",
      "4                        27                          59             7.3   \n",
      "\n",
      "   Albumin  Albumin_and_Globulin_Ratio  Dataset  \n",
      "0      3.3                        0.90        1  \n",
      "1      3.2                        0.74        1  \n",
      "2      3.3                        0.89        1  \n",
      "3      3.4                        1.00        1  \n",
      "4      2.4                        0.40        1  \n",
      "[[1. 0. 1. 1. 1. 1. 1. 1. 1. 1.]\n",
      " [1. 1. 1. 1. 1. 1. 1. 1. 1. 1.]\n",
      " [1. 1. 1. 1. 1. 1. 1. 1. 1. 1.]\n",
      " [1. 1. 1. 1. 1. 1. 1. 1. 1. 1.]\n",
      " [1. 1. 1. 1. 1. 1. 1. 1. 1. 1.]]\n"
     ]
    }
   ],
   "source": [
    "array=data.values\n",
    "x=array[:,0:10]\n",
    "y=array[:,10]\n",
    "binarize = Binarizer().fit(x)\n",
    "binarizeX=binarize.fit_transform(x)\n",
    "print(data.head())\n",
    "print(binarizeX[0:5,:])"
   ]
  },
  {
   "cell_type": "code",
   "execution_count": 10,
   "metadata": {},
   "outputs": [
    {
     "name": "stdout",
     "output_type": "stream",
     "text": [
      "Accuracy: 71.429%\n",
      "              precision    recall  f1-score   support\n",
      "\n",
      "         1.0       0.74      0.93      0.82       126\n",
      "         2.0       0.47      0.16      0.24        49\n",
      "\n",
      "   micro avg       0.71      0.71      0.71       175\n",
      "   macro avg       0.61      0.55      0.53       175\n",
      "weighted avg       0.66      0.71      0.66       175\n",
      "\n",
      "[[117   9]\n",
      " [ 41   8]]\n"
     ]
    },
    {
     "name": "stderr",
     "output_type": "stream",
     "text": [
      "C:\\Users\\kchai\\Anaconda3\\lib\\site-packages\\sklearn\\linear_model\\logistic.py:433: FutureWarning: Default solver will be changed to 'lbfgs' in 0.22. Specify a solver to silence this warning.\n",
      "  FutureWarning)\n"
     ]
    }
   ],
   "source": [
    "filename='indian_liver_patient.csv'\n",
    "data=read_csv(filename)\n",
    "data['Gender'].replace(['Female','Male'],[0,1],inplace=True)\n",
    "data.fillna(0,inplace=True)\n",
    "array=data.values\n",
    "x=array[:,0:10]\n",
    "y=array[:,10]\n",
    "test_size = 0.30\n",
    "seed = 8\n",
    "\n",
    "x_train, x_test, y_train, y_test = train_test_split(x, y, test_size=test_size, random_state=seed)\n",
    "model=LogisticRegression()\n",
    "model.fit(x_train, y_train)\n",
    "result=model.score(x_test,y_test)\n",
    "print(\"Accuracy: %.3f%%\" %  (result*100.0))\n",
    "predicted=model.predict(x_test)\n",
    "report = classification_report(y_test,predicted)\n",
    "print(report)\n",
    "matrix = confusion_matrix(y_test,predicted)\n",
    "print(matrix)"
   ]
  },
  {
   "cell_type": "code",
   "execution_count": 11,
   "metadata": {},
   "outputs": [
    {
     "name": "stdout",
     "output_type": "stream",
     "text": [
      "Accuracy: 73.143%\n",
      "              precision    recall  f1-score   support\n",
      "\n",
      "         1.0       0.73      1.00      0.84       126\n",
      "         2.0       1.00      0.04      0.08        49\n",
      "\n",
      "   micro avg       0.73      0.73      0.73       175\n",
      "   macro avg       0.86      0.52      0.46       175\n",
      "weighted avg       0.80      0.73      0.63       175\n",
      "\n",
      "[[126   0]\n",
      " [ 47   2]]\n"
     ]
    },
    {
     "name": "stderr",
     "output_type": "stream",
     "text": [
      "C:\\Users\\kchai\\Anaconda3\\lib\\site-packages\\sklearn\\svm\\base.py:196: FutureWarning: The default value of gamma will change from 'auto' to 'scale' in version 0.22 to account better for unscaled features. Set gamma explicitly to 'auto' or 'scale' to avoid this warning.\n",
      "  \"avoid this warning.\", FutureWarning)\n"
     ]
    }
   ],
   "source": [
    "from sklearn.model_selection import train_test_split\n",
    "from sklearn.svm import SVC\n",
    "from sklearn.metrics import classification_report\n",
    "from sklearn.metrics import confusion_matrix\n",
    "import numpy as np\n",
    "from pandas import read_csv\n",
    "filename='indian_liver_patient.csv'\n",
    "data=read_csv(filename)\n",
    "data['Gender'].replace(['Female','Male'],[0,1],inplace=True)\n",
    "data.fillna(0,inplace=True)\n",
    "array=data.values\n",
    "x=array[:,0:10]\n",
    "y=array[:,10]\n",
    "test_size = 0.30\n",
    "seed = 4\n",
    "x_train, x_test, y_train, y_test = train_test_split(x, y, test_size=test_size, random_state=seed)\n",
    "model=SVC()\n",
    "model.fit(x_train, y_train)\n",
    "result=model.score(x_test,y_test)\n",
    "print(\"Accuracy: %.3f%%\" %  (result*100.0))\n",
    "predicted=model.predict(x_test)\n",
    "report = classification_report(y_test,predicted)\n",
    "print(report)\n",
    "matrix = confusion_matrix(y_test,predicted)\n",
    "print(matrix)"
   ]
  },
  {
   "cell_type": "code",
   "execution_count": 69,
   "metadata": {},
   "outputs": [
    {
     "name": "stdout",
     "output_type": "stream",
     "text": [
      "Accuracy: 65.714%\n",
      "             precision    recall  f1-score   support\n",
      "\n",
      "        1.0       0.75      0.79      0.77       126\n",
      "        2.0       0.37      0.31      0.33        49\n",
      "\n",
      "avg / total       0.64      0.66      0.65       175\n",
      "\n",
      "[[100  26]\n",
      " [ 34  15]]\n"
     ]
    }
   ],
   "source": [
    "from sklearn.model_selection import train_test_split\n",
    "from sklearn.neighbors import KNeighborsClassifier\n",
    "from sklearn.metrics import classification_report\n",
    "from sklearn.metrics import confusion_matrix\n",
    "import numpy as np\n",
    "from pandas import read_csv\n",
    "filename='indian_liver_patient.csv'\n",
    "data=read_csv(filename)\n",
    "data['Gender'].replace(['Female','Male'],[0,1],inplace=True)\n",
    "data.fillna(0,inplace=True)\n",
    "array=data.values\n",
    "x=array[:,0:10]\n",
    "y=array[:,10]\n",
    "test_size = 0.30\n",
    "seed = 4\n",
    "x_train, x_test, y_train, y_test = train_test_split(x, y, test_size=test_size, random_state=seed)\n",
    "model=KNeighborsClassifier(n_neighbors=7)\n",
    "model.fit(x_train, y_train)\n",
    "result=model.score(x_test,y_test)\n",
    "print(\"Accuracy: %.3f%%\" %  (result*100.0))\n",
    "predicted=model.predict(x_test)\n",
    "report = classification_report(y_test,predicted)\n",
    "print(report)\n",
    "matrix = confusion_matrix(y_test,predicted)\n",
    "print(matrix)"
   ]
  },
  {
   "cell_type": "code",
   "execution_count": 70,
   "metadata": {},
   "outputs": [
    {
     "name": "stdout",
     "output_type": "stream",
     "text": [
      "Accuracy: 50.286%\n",
      "             precision    recall  f1-score   support\n",
      "\n",
      "        1.0       0.93      0.33      0.49       126\n",
      "        2.0       0.35      0.94      0.51        49\n",
      "\n",
      "avg / total       0.77      0.50      0.50       175\n",
      "\n",
      "[[42 84]\n",
      " [ 3 46]]\n"
     ]
    }
   ],
   "source": [
    "from sklearn.model_selection import train_test_split\n",
    "from sklearn.naive_bayes import GaussianNB\n",
    "from sklearn.metrics import classification_report\n",
    "from sklearn.metrics import confusion_matrix\n",
    "import numpy as np\n",
    "from pandas import read_csv\n",
    "filename='indian_liver_patient.csv'\n",
    "data=read_csv(filename)\n",
    "data['Gender'].replace(['Female','Male'],[0,1],inplace=True)\n",
    "data.fillna(0,inplace=True)\n",
    "array=data.values\n",
    "x=array[:,0:10]\n",
    "y=array[:,10]\n",
    "test_size = 0.30\n",
    "seed = 4\n",
    "x_train, x_test, y_train, y_test = train_test_split(x, y, test_size=test_size, random_state=seed)\n",
    "model=GaussianNB()\n",
    "model.fit(x_train, y_train)\n",
    "result=model.score(x_test,y_test)\n",
    "print(\"Accuracy: %.3f%%\" %  (result*100.0))\n",
    "predicted=model.predict(x_test)\n",
    "report = classification_report(y_test,predicted)\n",
    "print(report)\n",
    "matrix = confusion_matrix(y_test,predicted)\n",
    "print(matrix)"
   ]
  },
  {
   "cell_type": "code",
   "execution_count": null,
   "metadata": {},
   "outputs": [],
   "source": []
  }
 ],
 "metadata": {
  "kernelspec": {
   "display_name": "Python 3",
   "language": "python",
   "name": "python3"
  },
  "language_info": {
   "codemirror_mode": {
    "name": "ipython",
    "version": 3
   },
   "file_extension": ".py",
   "mimetype": "text/x-python",
   "name": "python",
   "nbconvert_exporter": "python",
   "pygments_lexer": "ipython3",
   "version": "3.6.7"
  }
 },
 "nbformat": 4,
 "nbformat_minor": 2
}
